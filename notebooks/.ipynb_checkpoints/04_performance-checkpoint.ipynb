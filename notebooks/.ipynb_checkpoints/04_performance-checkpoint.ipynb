{
 "cells": [
  {
   "cell_type": "markdown",
   "metadata": {},
   "source": [
    "# This notebook accompanies the course: \n",
    "\n",
    "## Practical Intro to Machine Learning: classification modelling- https://skl.sh/2UXN5RZ"
   ]
  },
  {
   "cell_type": "code",
   "execution_count": null,
   "metadata": {},
   "outputs": [],
   "source": [
    "#load data and map species to numeric\n",
    "iris_data = pd.read_csv('<path_to_iris.csv>')\n",
    "X = iris_data[['PetalLengthCm','SepalLengthCm','PetalWidthCm','SepalWidthCm']]\n",
    "y = iris_data['Species'].map({'Iris-setosa':1, 'Iris-versicolor':2, 'Iris-virginica':3})"
   ]
  },
  {
   "cell_type": "code",
   "execution_count": null,
   "metadata": {},
   "outputs": [],
   "source": [
    "from sklearn.model_selection import ____"
   ]
  },
  {
   "cell_type": "markdown",
   "metadata": {},
   "source": [
    "# Create Train and Test sets\n",
    "\n",
    "use the function train_test_split to split the data into the samples\n"
   ]
  },
  {
   "cell_type": "code",
   "execution_count": null,
   "metadata": {},
   "outputs": [],
   "source": [
    "# use train_test_split to split the data - make sure to keep the seed the same to have reproducable results\n",
    "X_train, X_test, y_train, y_test = __________(X, y, train_size = 0.8, random_state = 64)"
   ]
  },
  {
   "cell_type": "code",
   "execution_count": null,
   "metadata": {},
   "outputs": [],
   "source": [
    "#quick fit\n",
    "from sklearn.neighbors import KNeighborsClassifier\n",
    "\n",
    "knn = ____(n_neighbors=3)\n",
    "\n",
    "knn.fit(X_train,y_train) \n"
   ]
  },
  {
   "cell_type": "markdown",
   "metadata": {},
   "source": [
    "# Measuring Performance"
   ]
  },
  {
   "cell_type": "code",
   "execution_count": null,
   "metadata": {},
   "outputs": [],
   "source": [
    "from sklearn.metrics import accuracy_score, precision_score, recall_score"
   ]
  },
  {
   "cell_type": "code",
   "execution_count": null,
   "metadata": {},
   "outputs": [],
   "source": [
    "# calculate the prediction for each of the test set observations\n",
    "____ = knn.predict(____)"
   ]
  },
  {
   "cell_type": "code",
   "execution_count": null,
   "metadata": {},
   "outputs": [],
   "source": [
    "# Because the problem is not binary we need to average the precision somehow - try googling it \n",
    "print(accuracy_score(____, y_test))\n",
    "print(precision_score(____, y_test, average = ____))\n",
    "print(recall_score(____, y_test, average = ____))"
   ]
  },
  {
   "cell_type": "markdown",
   "metadata": {},
   "source": [
    "# Bonus\n",
    "1. What are the metrics like for the train set?\n",
    "2. What happens when you reseed the data?\n",
    "3. What happens if you take a smaller training sample?"
   ]
  },
  {
   "cell_type": "code",
   "execution_count": null,
   "metadata": {},
   "outputs": [],
   "source": []
  }
 ],
 "metadata": {
  "kernelspec": {
   "display_name": "Python 3",
   "language": "python",
   "name": "python3"
  },
  "language_info": {
   "codemirror_mode": {
    "name": "ipython",
    "version": 3
   },
   "file_extension": ".py",
   "mimetype": "text/x-python",
   "name": "python",
   "nbconvert_exporter": "python",
   "pygments_lexer": "ipython3",
   "version": "3.8.5"
  }
 },
 "nbformat": 4,
 "nbformat_minor": 4
}
