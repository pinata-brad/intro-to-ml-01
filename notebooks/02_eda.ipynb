{
 "cells": [
  {
   "cell_type": "markdown",
   "metadata": {},
   "source": [
    "# This notebook accompanies the course: \n",
    "\n",
    "## Practical Intro to Machine Learning: classification modelling- https://skl.sh/2UXN5RZ"
   ]
  },
  {
   "cell_type": "code",
   "execution_count": 1,
   "metadata": {},
   "outputs": [],
   "source": [
    "import numpy as np # linear algebra\n",
    "import pandas as pd # data processing, CSV file I/O (e.g. pd.read_csv)\n",
    "import seaborn as sns"
   ]
  },
  {
   "cell_type": "code",
   "execution_count": 3,
   "metadata": {},
   "outputs": [],
   "source": [
    "iris_data = pd.________('<path_to_iris.csv>')"
   ]
  },
  {
   "cell_type": "markdown",
   "metadata": {},
   "source": [
    "# Numerical EDA\n",
    "\n",
    "Use the pandas methods head, info and describe to get some descriptive statistics about the data. Print them after."
   ]
  },
  {
   "cell_type": "code",
   "execution_count": null,
   "metadata": {},
   "outputs": [],
   "source": [
    "iris_info = iris_data.____()\n",
    "\n",
    "iris_describe = iris_data.________()\n",
    "\n",
    "iris_head = iris_data.____()\n",
    "\n",
    "print(iris_info)\n",
    "\n",
    "print(iris_describe)\n",
    "\n",
    "print(iris_head)"
   ]
  },
  {
   "cell_type": "code",
   "execution_count": null,
   "metadata": {},
   "outputs": [],
   "source": [
    "# Print the descriptive statistics for each of the different species. \n",
    "# What do you notice about the mean Petal length across the 3 species?\n",
    "for t in iris_data['_______'].unique():\n",
    "    print(t)\n",
    "    print(iris_data[iris_data['_______'] == t].________())"
   ]
  },
  {
   "cell_type": "markdown",
   "metadata": {},
   "source": [
    "# Visual EDA\n",
    "\n",
    "* create a box plot of species vs petal length\n",
    "* create a violin plot of species vs petal width\n",
    "* create the pairplot\n",
    "* comment what you have learnt about the data while dong this EDA\n",
    " * what speicies is 'furthest' from the others?"
   ]
  },
  {
   "cell_type": "code",
   "execution_count": null,
   "metadata": {},
   "outputs": [],
   "source": [
    "sns._______(x='Species', \n",
    "            y='PetalLengthCm',\n",
    "            data=iris_data\n",
    "            )"
   ]
  },
  {
   "cell_type": "code",
   "execution_count": null,
   "metadata": {},
   "outputs": [],
   "source": [
    "sns.__________(x='Species', \n",
    "               y='PetalWidthCm',\n",
    "               data=iris_data\n",
    "                )"
   ]
  },
  {
   "cell_type": "code",
   "execution_count": null,
   "metadata": {},
   "outputs": [],
   "source": [
    "# remove id as it tells us nothing but is in the plot\n",
    "sns.________(data = iris_data.drop('Id',axis =1), \n",
    "             hue='Species')"
   ]
  },
  {
   "cell_type": "markdown",
   "metadata": {},
   "source": [
    "# Bonus\n",
    "\n",
    "do some more analysis and plot some more charts to work out where the biggest differences between the classes are"
   ]
  }
 ],
 "metadata": {
  "kernelspec": {
   "display_name": "Python 3",
   "language": "python",
   "name": "python3"
  },
  "language_info": {
   "codemirror_mode": {
    "name": "ipython",
    "version": 3
   },
   "file_extension": ".py",
   "mimetype": "text/x-python",
   "name": "python",
   "nbconvert_exporter": "python",
   "pygments_lexer": "ipython3",
   "version": "3.8.5"
  }
 },
 "nbformat": 4,
 "nbformat_minor": 4
}
