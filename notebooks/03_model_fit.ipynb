{
 "cells": [
  {
   "cell_type": "markdown",
   "metadata": {},
   "source": [
    "# This notebook accompanies the course: \n",
    "\n",
    "## Practical Intro to Machine Learning: classification modelling- https://skl.sh/2UXN5RZ"
   ]
  },
  {
   "cell_type": "code",
   "execution_count": 3,
   "metadata": {},
   "outputs": [],
   "source": [
    "import numpy as np # linear algebra\n",
    "import pandas as pd # data processing, CSV file I/O (e.g. pd.read_csv)\n",
    "from mlxtend.plotting import plot_decision_regions"
   ]
  },
  {
   "cell_type": "code",
   "execution_count": null,
   "metadata": {},
   "outputs": [],
   "source": [
    "#load data and map species to numeric\n",
    "iris_data = pd.read_csv('<path_to_iris.csv>')\n",
    "X = iris_data[['PetalLengthCm','SepalLengthCm','PetalWidthCm','SepalWidthCm']]\n",
    "y = iris_data['Species'].map({'Iris-setosa':1, 'Iris-versicolor':2, 'Iris-virginica':3})"
   ]
  },
  {
   "cell_type": "markdown",
   "metadata": {},
   "source": [
    "info on k nearest neighbors"
   ]
  },
  {
   "cell_type": "code",
   "execution_count": null,
   "metadata": {},
   "outputs": [],
   "source": [
    "#quick fit\n",
    "from sklearn.neighbors import KNeighborsClassifier\n",
    "\n",
    "knn = __________________(n_neighbors=3)\n",
    "\n",
    "knn.fit(X,y) "
   ]
  },
  {
   "cell_type": "markdown",
   "metadata": {},
   "source": [
    "Use the function plot_decision_regions from mlxtend.plotting to visualise the decision boundary \n",
    "\n",
    "Experiment with the features selected and the value of k, what happens to the boundary when you increase the number of neighbours?"
   ]
  },
  {
   "cell_type": "code",
   "execution_count": null,
   "metadata": {},
   "outputs": [],
   "source": [
    "\n",
    "\n",
    "X = iris_data[['PetalLengthCm','SepalLengthCm']]\n",
    "y = iris_data['Species'].map({'Iris-setosa':1, 'Iris-versicolor':2, 'Iris-virginica':3})\n",
    "\n",
    "knn = _________________(n_neighbors=_)\n",
    "____________________(np.array(X), np.array(y), clf=knn, legend=3)\n",
    "\n",
    "plt.xlabel('Feature 1')\n",
    "plt.ylabel('Feature 2')\n",
    "plt.title('knn on Iris with 2 features')\n",
    "plt.show()"
   ]
  }
 ],
 "metadata": {
  "kernelspec": {
   "display_name": "Python 3",
   "language": "python",
   "name": "python3"
  },
  "language_info": {
   "codemirror_mode": {
    "name": "ipython",
    "version": 3
   },
   "file_extension": ".py",
   "mimetype": "text/x-python",
   "name": "python",
   "nbconvert_exporter": "python",
   "pygments_lexer": "ipython3",
   "version": "3.8.5"
  }
 },
 "nbformat": 4,
 "nbformat_minor": 4
}
